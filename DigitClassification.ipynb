{
 "cells": [
  {
   "cell_type": "markdown",
   "metadata": {
    "id": "_lxIB_QCV8iO"
   },
   "source": [
    "# Handwritten Digits Classification\n",
    "\n",
    "### Sidclay da Silva\n",
    "\n",
    "### June 2022\n",
    "\n",
    "---"
   ]
  },
  {
   "cell_type": "markdown",
   "metadata": {
    "id": "0tcFKvgIW6ss"
   },
   "source": [
    "### Introduction\n",
    "\n",
    "In this notebook we develop a Python model for image classification of handwritten digits using a convolutional neural network (CNN) based on TensorFlow framework.\n",
    "\n",
    "Explanation of concepts and logic is provided to help understanding the steps along the notebook, but there is no detailed explanation about the code, some Phyton and arrays knowledge is required to follow it.\n",
    "\n",
    "The environment uses Python 3.7, TensorFlow 2.8 and TensorFlow Datasets 4.0.\n",
    "\n",
    "---"
   ]
  },
  {
   "cell_type": "markdown",
   "metadata": {
    "id": "cmuD_juU12BW"
   },
   "source": [
    "### MNIST Database\n",
    "\n",
    "The images used in this project are from the well known MNIST Database, a collection 70,000 handwritten digit images. For details please check the original work of Yann LeCun, Corinna Cortes and Christopher Burges at http://yann.lecun.com/exdb/mnist/.\n",
    "\n",
    "The images database is available in several formats and sources on the internet, TensorFlow already provides it as dataset, details at https://www.tensorflow.org/datasets/catalog/mnist.\n",
    "\n",
    "Our source will be the Extendet MNIST (EMNIST) Python package (https://pypi.org/project/emnist/) from Aaron Hosford. It provides the image database as Numpy array, this gives us a good opportunity to see how to prepare arrays to be used as input tensors in TensorFlow, a usefull knowledge to be replicated in future projects when dealing with our own data.\n",
    "\n",
    "The first thing to do is to have EMNIST package installed."
   ]
  },
  {
   "cell_type": "code",
   "execution_count": null,
   "metadata": {
    "id": "ZjsvZN-VZNDL"
   },
   "outputs": [],
   "source": [
    "# install emnist package\n",
    "! pip install emnist"
   ]
  },
  {
   "cell_type": "markdown",
   "metadata": {
    "id": "AFQ5CMyU3CXx"
   },
   "source": [
    "Next we import the required libraries, and from EMNIST we import functions extract_training_samples() and extract_test_samples(), as their names suggest, they are used to extract the training and test sample data."
   ]
  },
  {
   "cell_type": "code",
   "execution_count": 1,
   "metadata": {
    "executionInfo": {
     "elapsed": 3020,
     "status": "ok",
     "timestamp": 1655136463860,
     "user": {
      "displayName": "Sidclay da Silva",
      "userId": "08174217452753453351"
     },
     "user_tz": 180
    },
    "id": "baVEvaPCbTHS"
   },
   "outputs": [],
   "source": [
    "# import packages\n",
    "%matplotlib inline\n",
    "import numpy as np\n",
    "from matplotlib import pyplot as plt\n",
    "import tensorflow as tf\n",
    "from tensorflow import keras\n",
    "from tensorflow.keras import layers\n",
    "\n",
    "from emnist import extract_training_samples, extract_test_samples\n",
    "\n",
    "# set Numpy precision for printing\n",
    "np.set_printoptions(precision=3)"
   ]
  },
  {
   "cell_type": "markdown",
   "metadata": {
    "id": "APlOKtwL6Aqt"
   },
   "source": [
    "### Loading Data\n",
    "\n",
    "The EMNIST package contains the complete EMNIST Database, which includes different subsets of handwritten digits and letters, for details please check The EMNIST Dataset official webpage at https://www.nist.gov/itl/products-and-services/emnist-dataset.\n",
    "\n",
    "To extract the desired subset samples, we use the respective function, training or test, having the subset name as parameter, e.g. for MNIST training subset use extract_training_samples('mnist').\n",
    "\n",
    "The EMNIST/MNIST subset contains a collection of 60,000 training and 10,000 test images with shape (28,28) in grayscale format, all of them with their respective labels. When extracted the data is loaded into two Numpy arrays, one receives images data and the other labels data. The images are labeled with one out of ten different classes, from 0 to 9."
   ]
  },
  {
   "cell_type": "code",
   "execution_count": 2,
   "metadata": {
    "colab": {
     "base_uri": "https://localhost:8080/"
    },
    "executionInfo": {
     "elapsed": 1162,
     "status": "ok",
     "timestamp": 1655136469167,
     "user": {
      "displayName": "Sidclay da Silva",
      "userId": "08174217452753453351"
     },
     "user_tz": 180
    },
    "id": "38NttYkWZRBX",
    "outputId": "eb96b94f-57fa-4458-c1cf-45067838b5b9"
   },
   "outputs": [
    {
     "name": "stdout",
     "output_type": "stream",
     "text": [
      "Training \n",
      "  Image shape: (60000, 28, 28) \n",
      "  Label shape: (60000,)\n",
      "\n",
      "Test \n",
      "  Image shape: (10000, 28, 28) \n",
      "  Label shape: (10000,)\n",
      "\n",
      "Classes\n",
      "  10\n"
     ]
    }
   ],
   "source": [
    "# load training and test data from emnist/mnist\n",
    "img_train, lbl_train = extract_training_samples('mnist')\n",
    "img_test, lbl_test = extract_test_samples('mnist')\n",
    "\n",
    "# print objects information\n",
    "print('Training',\n",
    "      '\\n  Image shape:', img_train.shape,\n",
    "      '\\n  Label shape:', lbl_train.shape)\n",
    "print('\\nTest',\n",
    "      '\\n  Image shape:', img_test.shape,\n",
    "      '\\n  Label shape:', lbl_test.shape)\n",
    "print('\\nClasses\\n ', len(np.unique(lbl_train)))"
   ]
  },
  {
   "cell_type": "markdown",
   "metadata": {
    "id": "atmGxqCE_-gU"
   },
   "source": [
    "Let's have a quick look at one training and one test sample, their labels are defined as image title."
   ]
  },
  {
   "cell_type": "code",
   "execution_count": 3,
   "metadata": {
    "colab": {
     "base_uri": "https://localhost:8080/",
     "height": 216
    },
    "executionInfo": {
     "elapsed": 1093,
     "status": "ok",
     "timestamp": 1655136473602,
     "user": {
      "displayName": "Sidclay da Silva",
      "userId": "08174217452753453351"
     },
     "user_tz": 180
    },
    "id": "iZMGp_z_7ddc",
    "outputId": "9ac43f31-a6e2-43ba-ab62-2c1c3cbaef3e"
   },
   "outputs": [
    {
     "data": {
      "image/png": "[encoded data removed]",
      "text/plain": [
       "<Figure size 432x288 with 2 Axes>"
      ]
     },
     "metadata": {
      "needs_background": "light"
     },
     "output_type": "display_data"
    }
   ],
   "source": [
    "# show sample images with labels\n",
    "# training data\n",
    "plt.subplot(1,2,1)\n",
    "plt.imshow(img_train[0], cmap='gray')\n",
    "plt.title(lbl_train[0])\n",
    "\n",
    "# test data\n",
    "plt.subplot(1,2,2)\n",
    "plt.imshow(img_test[-1], cmap='gray')\n",
    "plt.title(lbl_test[-1]);"
   ]
  },
  {
   "cell_type": "markdown",
   "metadata": {
    "id": "QnOLHhINA9tF"
   },
   "source": [
    "### Creating TensorFlow Datasets\n",
    "\n",
    "TensorFlow datasets are used to feed the network (CNN), in our case we should import our Numpy arrays into datasets.\n",
    "\n",
    "The standard tensor shape for feeding images to TensorFlow models has four dimensions (batch_size, heigh, width, no_channels). In grayscale images the pixels value defines its intensity in a range of 256 shades of gray from 0 (black) to 255 (white), the number channels dimension is not used since there is only one of them.\n",
    "\n",
    "Images in RGB format use the red, green and blue channels to create color palettes, they require three channels. In this case the pixel value in each channel defines the filter intensity, also fom 0 to 255, and the combination of the three channels defines the color, so there are 16 milion possible colors for each pixel ($256^3 = 16.777.216$).\n",
    "\n",
    "MNIST images are in grayscale without the channels dimension, we need to expand them with the fourth dimension to be complient with TensorFlow standard. After that we import images and labels into TensorFlow datasets setting them as a tupple (image, label), which defines the dataset elements.\n"
   ]
  },
  {
   "cell_type": "code",
   "execution_count": 4,
   "metadata": {
    "colab": {
     "base_uri": "https://localhost:8080/"
    },
    "executionInfo": {
     "elapsed": 1226,
     "status": "ok",
     "timestamp": 1655136479549,
     "user": {
      "displayName": "Sidclay da Silva",
      "userId": "08174217452753453351"
     },
     "user_tz": 180
    },
    "id": "EFbCmnXjfFTH",
    "outputId": "d96ec80b-77ad-4e1f-8036-fbb07b07fd33"
   },
   "outputs": [
    {
     "name": "stdout",
     "output_type": "stream",
     "text": [
      "Training \n",
      "  Object type: <class 'tensorflow.python.data.ops.dataset_ops.TensorSliceDataset'> \n",
      "  Image spec: TensorSpec(shape=(28, 28, 1), dtype=tf.uint8, name=None) \n",
      "  Label spec: TensorSpec(shape=(), dtype=tf.uint8, name=None)\n",
      "\n",
      "Test \n",
      "  Object type: <class 'tensorflow.python.data.ops.dataset_ops.TensorSliceDataset'> \n",
      "  Image spec: TensorSpec(shape=(28, 28, 1), dtype=tf.uint8, name=None) \n",
      "  Label spec: TensorSpec(shape=(), dtype=tf.uint8, name=None)\n"
     ]
    }
   ],
   "source": [
    "# add 4th dimension to image arrays (TF standard)\n",
    "img_train = np.expand_dims(img_train, axis=3)\n",
    "img_test = np.expand_dims(img_test, axis=3)\n",
    "\n",
    "# create TF Dataset from Numpy Arrays\n",
    "data_train = tf.data.Dataset.from_tensor_slices((img_train, lbl_train),)\n",
    "data_test = tf.data.Dataset.from_tensor_slices((img_test, lbl_test))\n",
    "\n",
    "# print objects information\n",
    "print('Training',\n",
    "      '\\n  Object type:', type(data_train),\n",
    "      '\\n  Image spec:', data_train.element_spec[0],\n",
    "      '\\n  Label spec:', data_train.element_spec[1])\n",
    "\n",
    "print('\\nTest',\n",
    "      '\\n  Object type:', type(data_test),\n",
    "      '\\n  Image spec:', data_test.element_spec[0],\n",
    "      '\\n  Label spec:', data_test.element_spec[1])"
   ]
  },
  {
   "cell_type": "markdown",
   "metadata": {
    "id": "OJWvD_qmvNUl"
   },
   "source": [
    "### Preparing Data\n",
    "\n",
    "The data type was originally defined as integer *tf.uint8*, which comprehends the grayscale range between 0 and 255 ($2^8=256$).\n",
    "\n",
    "The images will be casted to float *tf.float32*, this allows higher precision during the calculations. After that they will be rescaled to the range between 0.0 and 1.0, dividing the pixels values by 255.0, their maximum possible value, this helps to avoid overflow during weights calculations.\n",
    "\n",
    "The labels will be casted to integer *tf.int32*, but there is no need for rescaling labels.\n",
    "\n",
    "All of this is done by a user defined cast and rescale function, which receives image and label as parameters and returns the processed data. It is applied to the dataset using Python map() function, it calls our cast_rescale() function passing the dataset elements (image, label) as parameter."
   ]
  },
  {
   "cell_type": "code",
   "execution_count": 5,
   "metadata": {
    "executionInfo": {
     "elapsed": 393,
     "status": "ok",
     "timestamp": 1655136484348,
     "user": {
      "displayName": "Sidclay da Silva",
      "userId": "08174217452753453351"
     },
     "user_tz": 180
    },
    "id": "8xVFSuHox1eL"
   },
   "outputs": [],
   "source": [
    "def cast_rescale(image, label):\n",
    "    '''Cast and rescale the input'''\n",
    "    return tf.cast(image, tf.float32)/255., tf.cast(label, tf.int32)\n",
    "\n",
    "# cast and rescale data\n",
    "data_train = data_train.map(cast_rescale, num_parallel_calls=tf.data.AUTOTUNE)\n",
    "data_test = data_test.map(cast_rescale, num_parallel_calls=tf.data.AUTOTUNE)"
   ]
  },
  {
   "cell_type": "markdown",
   "metadata": {
    "id": "jxkv6I3tz-UA"
   },
   "source": [
    "### Creating Data Iterators\n",
    "\n",
    "One way to run model training sessions is using data batches, slices of the dataset fed to the network on an iterative way. After each batch processing the model parameters are updated using a gradient decent method.\n",
    "\n",
    "Data iterators are set with the batch selection police, and they are handy because each time a batch is required they are provided accordingly without the need of manual selection. Data iterators can be created by user defined classes and/or functions, but TensorFlow already provides the tools we need to set them.\n",
    "\n",
    "We will build our data iterators first caching the data into memory, then defining the shuffle method, in our case we set its buffer size to the number of entries in our dataset, doing this each training epoch makes use of the whole dataset. The buffer size can be set to half or a third of dataset size, then the dataset is used partially in each epoch, taking each half or third portion of it sequentially epoch after epoch.\n",
    "\n",
    "We also set it to reshuffle at each iteration, meaning that for each epoch the batches are redefined again. It is also possible to set the shuffling seed for reproducibility.\n",
    "\n",
    "The shuffling step is done only for training dataset, it is not required for tests.\n",
    "\n",
    "Then we set the batch size, which is of relevant importance. As mentioned earlier, after each batch processing the model parameters are updated by a gradient decent method. The batch size also defines the number of entries used to calculate the gradient, it should be sufficient to generate a robust gradient and to allow the model convergence, but it should also be sufficient to allow the iterative process with enough number of batches, having more batches it is possible to update parameters more frequently.\n",
    "\n",
    "Finally we define how TensorFlow should prefetch data, which is how many elements to prepare in advance to feed the network while it is processing the current one. It avoids waiting time to read and feed the data, but it requires more memory, when set to tf.data.AUTOTUNE it is dynamically adjusted.\n",
    "\n",
    "For details about TensorFlow Datasets please check https://www.tensorflow.org/api_docs/python/tf/data/Dataset."
   ]
  },
  {
   "cell_type": "code",
   "execution_count": 6,
   "metadata": {
    "colab": {
     "base_uri": "https://localhost:8080/"
    },
    "executionInfo": {
     "elapsed": 415,
     "status": "ok",
     "timestamp": 1655136494705,
     "user": {
      "displayName": "Sidclay da Silva",
      "userId": "08174217452753453351"
     },
     "user_tz": 180
    },
    "id": "WRXzJpqXzJAu",
    "outputId": "2ba8ff43-0ad9-493a-83a5-1d9cdef85c62"
   },
   "outputs": [
    {
     "name": "stdout",
     "output_type": "stream",
     "text": [
      "Training \n",
      "  Object type: <class 'tensorflow.python.data.ops.dataset_ops.PrefetchDataset'> \n",
      "  Image spec: TensorSpec(shape=(None, 28, 28, 1), dtype=tf.float32, name=None) \n",
      "  Label spec: TensorSpec(shape=(None,), dtype=tf.int32, name=None)\n",
      "\n",
      "Test \n",
      "  Object type: <class 'tensorflow.python.data.ops.dataset_ops.PrefetchDataset'> \n",
      "  Image spec: TensorSpec(shape=(None, 28, 28, 1), dtype=tf.float32, name=None) \n",
      "  Label spec: TensorSpec(shape=(None,), dtype=tf.int32, name=None)\n"
     ]
    }
   ],
   "source": [
    "# define the batch size\n",
    "batch_size = 64\n",
    "\n",
    "# prepare training data for input\n",
    "data_train = data_train.cache()\n",
    "data_train = data_train.shuffle(buffer_size=len(data_train),\n",
    "                                seed=1532,\n",
    "                                reshuffle_each_iteration=True)\n",
    "data_train = data_train.batch(batch_size)\n",
    "data_train = data_train.prefetch(buffer_size=tf.data.AUTOTUNE)\n",
    "\n",
    "# prepare test data for input\n",
    "data_test = data_test.cache()\n",
    "data_test = data_test.batch(batch_size)\n",
    "data_test = data_test.prefetch(buffer_size=tf.data.AUTOTUNE)\n",
    "\n",
    "# print objects information\n",
    "print('Training',\n",
    "      '\\n  Object type:', type(data_train),\n",
    "      '\\n  Image spec:', data_train.element_spec[0],\n",
    "      '\\n  Label spec:', data_train.element_spec[1])\n",
    "\n",
    "print('\\nTest',\n",
    "      '\\n  Object type:', type(data_test),\n",
    "      '\\n  Image spec:', data_test.element_spec[0],\n",
    "      '\\n  Label spec:', data_test.element_spec[1])"
   ]
  },
  {
   "cell_type": "markdown",
   "metadata": {
    "id": "e7qS8F5f0X0N"
   },
   "source": [
    "### Understanding Convolution Operation\n",
    "\n",
    "For the task of image classification we use convolutional neural networks (CNN), these networks are able to capture the correlation between the image pixels thus extract features to understand its content. It is performed by a convolution operation, performed by a sliding window, also called kernel, over the image. This operation outputs a new tensor with the image pixels cross-correlation, this output is called features map.\n",
    "\n",
    "The operation starts from the top left position, first moving the kernel to the right, then to the bottom of the image. For each position the kernel passes it operates the calculation between its elements and the elements of the overlaped portion of the image.\n",
    "\n",
    "It is not a formal way to describe it, but the example below helps to understand it. Suppose we have an input image $X$ with shape (3,3,1) and a convolutional kernel $K$ with shape (2,2,1):\n",
    "\n",
    "$X = \\begin{bmatrix} 0 & 1 & 2 \\\\ 3 & 4 & 5 \\\\ 6 & 7 & 8 \\end{bmatrix},\n",
    "K = \\begin{bmatrix} 1 & 3 \\\\ 5 & 7 \\end{bmatrix}$\n",
    "\n",
    "First we position $K$ over the top left position of $X$ and perform the elementwise multiplication:\n",
    "\n",
    "$\\begin{bmatrix} 1 \\times 0 & 3 \\times 1 \\\\ 5 \\times 3 & 7 \\times 4 \\end{bmatrix} = \n",
    "\\begin{bmatrix} 0 & 3 \\\\ 15 & 28 \\end{bmatrix}$\n",
    "\n",
    "Next we sum up the elements: $0 + 3 + 15 + 28 = 46$\n",
    "\n",
    "When sliding $K$ over $X$ from left to right and from top to bottom, the outputs are:\n",
    "\n",
    "$1 \\times 0 + 3 \\times 1 + 5 \\times 3 + 7 \\times 4 = 46$\n",
    "\n",
    "$1 \\times 1 + 3 \\times 2 + 5 \\times 4 + 7 \\times 5 = 62$\n",
    "\n",
    "$1 \\times 3 + 3 \\times 4 + 5 \\times 6 + 7 \\times 7 = 94$\n",
    "\n",
    "$1 \\times 4 + 3 \\times 5 + 5 \\times 7 + 7 \\times 8 = 110$\n",
    "\n",
    "The features map, output of the convolution of $K$ over $X$, is then:\n",
    "\n",
    "$O = \\textrm{Conv}(X, K) = \\begin{bmatrix} 46 & 62 \\\\ 94 & 110 \\end{bmatrix}$\n",
    "\n",
    "In our example the slide step had size equals to one, this means we moved one pixel each time, this is called stride. Strides can be set to higher values than one.\n",
    "\n",
    "The features map has smaller dimensions compared to the input image, to avoid this effect we can expand the input with paddings. They are pixels with value zero added to the border of the original image."
   ]
  },
  {
   "cell_type": "markdown",
   "metadata": {
    "id": "cVbiKSnYZSCZ"
   },
   "source": [
    "### Convolution with Multi-channel Objects\n",
    "\n",
    "The convolution kernel must always have the same number of channels as the image to be processed, the operation is performed per channel. Let's see an example with a two channels image $X$ with shape (3,3,2) and kernel $K$ (2,2,2).\n",
    "\n",
    "$X = \\left[{\\begin{bmatrix} 0 & 1 & 2 \\\\ 3 & 4 & 5 \\\\ 6 & 7 & 8 \\end{bmatrix}\\;\n",
    "\\begin{bmatrix} 2 & 4 & 6 \\\\ 1 & 3 & 5 \\\\ 7 & 8 & 9 \\end{bmatrix}}\\right]$\n",
    "\n",
    "$K = \\left[{\\begin{bmatrix} 1 & 3 \\\\ 5 & 7 \\end{bmatrix}\\;\n",
    "\\begin{bmatrix} 2 & 4 \\\\ 6 & 8 \\end{bmatrix}}\\right]$\n",
    "\n",
    "For channel 1 we have: $O_1 = \\textrm{Conv}(X_1,K_1) = \\begin{bmatrix} 46 & 62 \\\\ 94 & 110 \\end{bmatrix}$\n",
    "\n",
    "For channel 2 we have: $O_2 = \\textrm{Conv}(X_2,K_2)  = \\begin{bmatrix} 50 & 90 \\\\ 113 & 146 \\end{bmatrix}$\n",
    "\n",
    "Next to find the features map, output of the convolution of $K$ over $X$, we sum up elementwise the channels operation outputs:\n",
    "\n",
    "$O = O_1 + O_2 = \\begin{bmatrix} 46+50 & 62+90 \\\\ 94+113 & 110+146 \\end{bmatrix} = \n",
    "\\begin{bmatrix} 96 & 152 \\\\ 207 & 256 \\end{bmatrix}$\n",
    "\n",
    "No matter how many channels the image contains, the convolution operation outputs a single features map.\n",
    "\n",
    "Usually in convolutional neural networks several features maps are used to have different characteristics extracted from the input image, in this case the convolution operator should not contain a single kernel, but a group of kernels. \n",
    "\n",
    "When dealing with tensors, this can be done just including one dimension at its first position, instead of shape (heigh, width, no_channels), the kernel should have shape (no_filters, height, width, no_channels). In this case for each filter one convolution operation is performed providing one features map each.\n",
    "\n",
    "To output three features maps in our example above we would have kernel $K$ with shape (3,2,2,2).\n",
    "\n",
    "$K = \\left[\n",
    "\\left[\\begin{bmatrix} 1 & 3 \\\\ 5 & 7 \\end{bmatrix}\\; \\begin{bmatrix} 2 & 4 \\\\ 6 & 8 \\end{bmatrix}\\right]\\\\\n",
    "\\left[\\begin{bmatrix} 0 & 9 \\\\ 4 & 5 \\end{bmatrix}\\; \\begin{bmatrix} 5 & 3 \\\\ 0 & 4 \\end{bmatrix}\\right]\\\\ \n",
    "\\left[\\begin{bmatrix} 2 & 3 \\\\ 6 & 5 \\end{bmatrix}\\; \\begin{bmatrix} 1 & 7 \\\\ 9 & 6 \\end{bmatrix}\\right]\n",
    "\\right]$"
   ]
  },
  {
   "cell_type": "markdown",
   "metadata": {
    "id": "G4U2e5JrLkUA"
   },
   "source": [
    "### Pooling Operation\n",
    "\n",
    "Pooling operation is used to aggregate information from the input at the same time to reduce its dimensionality, usually pooling layers are allocated after a convolutional layer.\n",
    "\n",
    "There are two types of pooling layers, maximum pooling and average pooling. The operation is also done sliding a window, the pooling window, over the intput, but the operation is the extraction of the higher value, in case of max pooling, or the calculation of the average value, in case of average pooling.\n",
    "\n",
    "Pooling windows do not hold any value, only their shape or size.\n",
    "\n",
    "Suppose we have the same input $X$ with shape (3, 3) and a max pooling window $M$ with shape (2, 2).\n",
    "\n",
    "$X = \\begin{bmatrix} 0 & 1 & 2 \\\\ 3 & 4 & 5 \\\\ 6 & 7 & 8 \\end{bmatrix},\n",
    "M = \\begin{bmatrix}  m_{11} & m_{12}  \\\\ m_{21}  & m_{22} \\end{bmatrix}$\n",
    "\n",
    "When $M$ is positioned over the top left position of $X$ it operates the function $\\textrm{max}(0,1,3,4)=4$.\n",
    "\n",
    "When sliding $M$ over $X$ from left to right and from top to bottom, the outputs are:\n",
    "\n",
    "$\\textrm{max}(0, 1, 3, 4)=4$\n",
    "\n",
    "$\\textrm{max}(1, 2, 4, 5)=5$\n",
    "\n",
    "$\\textrm{max}(3, 4, 6, 7)=7$\n",
    "\n",
    "$\\textrm{max}(4, 5, 7, 8)=8$\n",
    "\n",
    "The output of the max pooling operation of $M$ over $X$ is then:\n",
    "\n",
    "$O = \\textrm{MaxPool}(X,M) = \\begin{bmatrix}  4 & 5  \\\\ 7  & 8 \\end{bmatrix}$"
   ]
  },
  {
   "cell_type": "markdown",
   "metadata": {
    "id": "dL77tJxnzUhw"
   },
   "source": [
    "### Defining Model\n",
    "\n",
    "We will build a TensorFlow Sequential model, which holds its layers in sequence and the output from a layer is passed as input to the next.\n",
    "\n",
    "Our model will process the input image gradually increasing the number of feature maps (filters), using convolutional layers, and reducing the dimensionality, using pooling layers, from input shape (28,28,1) to (1,1,256). Convolutional neural networks extract images features on local perspective (pixel level) within intial layers, and on global perpective (image level) within the deep layers.\n",
    "\n",
    "After extracting image features we reduce the number of feature maps to the same number of classes in our problem, they are 10, this is also achieved with a convolutional layer with output shape (1,1,10). Finally we use a flatten layer to reshape it to a tensor shape (1,10).\n",
    "\n",
    "The output of the network contains the odds for the input image to belong to each of the ten classes, the class with the higher odds is considered as the best prediction for the input image.\n",
    "\n",
    "We will also use batch normalization between convolutional and pooling layers, they normalize the output of the convolutional layers helping to avoid overfitting, they also allow the usage of more aggressive learning rates.\n",
    "\n",
    "The main portion of the network has a standard layout:\n",
    "1. Convolution\n",
    "1. Batch normalization\n",
    "1. Max pooling\n",
    "\n",
    "To define the model we will have a function which receive as parameter a tupple with the layers configuration - number of output filters, convolution kernel size and pooling window size. It will add the layers in sequence according to the given tupple, then the flatten layer and return the model.\n",
    "\n",
    "TensorFlow does not require to set the layer input shape, as it infers by himself, for convolutional layers only the output number of feature maps (filter) and the kernel size are required. Optionally strides and padding can be also set to manage the output dimensionality."
   ]
  },
  {
   "cell_type": "code",
   "execution_count": 7,
   "metadata": {
    "executionInfo": {
     "elapsed": 322,
     "status": "ok",
     "timestamp": 1655136503285,
     "user": {
      "displayName": "Sidclay da Silva",
      "userId": "08174217452753453351"
     },
     "user_tz": 180
    },
    "id": "bpaW8DbAFoVB"
   },
   "outputs": [],
   "source": [
    "def model(layers_config):\n",
    "    '''Defines a TensorFlow Sequential model'''\n",
    "    model = keras.models.Sequential(name='DigitClassification')\n",
    "\n",
    "    for i, (filters, kernel, pool) in enumerate(layers_config, start=1):\n",
    "        # add convolutional layer\n",
    "        model.add(layers.Conv2D(filters=filters, kernel_size=kernel,\n",
    "                                strides=1, padding='same',\n",
    "                                name='conv_'+str(i)))\n",
    "        # add batch normalization layer\n",
    "        model.add(layers.BatchNormalization(name='bnrm_'+str(i)))\n",
    "        # add activation function layer\n",
    "        model.add(layers.Activation('relu', name='actv_'+str(i)))\n",
    "        \n",
    "        if pool > 0:\n",
    "            # add max pooling layer\n",
    "            model.add(layers.MaxPool2D(pool_size=pool, strides=2,\n",
    "                                       name='pool_'+str(i)))\n",
    "    \n",
    "    # add flatten layer\n",
    "    model.add(layers.Flatten(name='flatten'))\n",
    "    return model"
   ]
  },
  {
   "cell_type": "markdown",
   "metadata": {
    "id": "A-zkECIkUuRP"
   },
   "source": [
    "There will be four convolutional layers for feature extraction, each of them followed by the batch normalization and activation. Then the classes odds calculation and the flatten layers.\n",
    "\n",
    "1. Conv(3x3), 32 filters | Batch normalization | Activation | MaxPool(2x2)\n",
    "1. Conv(3x3), 64 filters | Batch normalization | Activation | MaxPool(2x2)\n",
    "1. Conv(3x3), 128 filters | Batch normalization | Activation | MaxPool(2x2)\n",
    "1. Conv(3x3), 256 filters | Batch normalization | Activation | MaxPool(2x2)\n",
    "1. Conv(1x1), 10 filters | Batch normalization | Activation\n",
    "1. Flatten\n",
    "\n",
    "Bellow we define the layers configuration, notice that the last position (10,1,0) is the odds calculation, the convolution kernel has size one and there is no pooling. \n",
    "\n",
    "Next we instantiate the model with defined layers configuration and build it with the expected input tensor shape. After that we use model summary to check its architecure and correct any mistake."
   ]
  },
  {
   "cell_type": "code",
   "execution_count": 8,
   "metadata": {
    "colab": {
     "base_uri": "https://localhost:8080/"
    },
    "executionInfo": {
     "elapsed": 750,
     "status": "ok",
     "timestamp": 1655136507686,
     "user": {
      "displayName": "Sidclay da Silva",
      "userId": "08174217452753453351"
     },
     "user_tz": 180
    },
    "id": "3ou3vtZyYmAs",
    "outputId": "78549927-daee-4635-f42f-cc81396cef70"
   },
   "outputs": [
    {
     "name": "stdout",
     "output_type": "stream",
     "text": [
      "Model: \"DigitClassification\"\n",
      "_________________________________________________________________\n",
      " Layer (type)                Output Shape              Param #   \n",
      "=================================================================\n",
      " conv_1 (Conv2D)             (1, 28, 28, 32)           320       \n",
      "                                                                 \n",
      " bnrm_1 (BatchNormalization)  (1, 28, 28, 32)          128       \n",
      "                                                                 \n",
      " actv_1 (Activation)         (1, 28, 28, 32)           0         \n",
      "                                                                 \n",
      " pool_1 (MaxPooling2D)       (1, 14, 14, 32)           0         \n",
      "                                                                 \n",
      " conv_2 (Conv2D)             (1, 14, 14, 64)           18496     \n",
      "                                                                 \n",
      " bnrm_2 (BatchNormalization)  (1, 14, 14, 64)          256       \n",
      "                                                                 \n",
      " actv_2 (Activation)         (1, 14, 14, 64)           0         \n",
      "                                                                 \n",
      " pool_2 (MaxPooling2D)       (1, 7, 7, 64)             0         \n",
      "                                                                 \n",
      " conv_3 (Conv2D)             (1, 7, 7, 128)            73856     \n",
      "                                                                 \n",
      " bnrm_3 (BatchNormalization)  (1, 7, 7, 128)           512       \n",
      "                                                                 \n",
      " actv_3 (Activation)         (1, 7, 7, 128)            0         \n",
      "                                                                 \n",
      " pool_3 (MaxPooling2D)       (1, 3, 3, 128)            0         \n",
      "                                                                 \n",
      " conv_4 (Conv2D)             (1, 3, 3, 256)            295168    \n",
      "                                                                 \n",
      " bnrm_4 (BatchNormalization)  (1, 3, 3, 256)           1024      \n",
      "                                                                 \n",
      " actv_4 (Activation)         (1, 3, 3, 256)            0         \n",
      "                                                                 \n",
      " pool_4 (MaxPooling2D)       (1, 1, 1, 256)            0         \n",
      "                                                                 \n",
      " conv_5 (Conv2D)             (1, 1, 1, 10)             2570      \n",
      "                                                                 \n",
      " bnrm_5 (BatchNormalization)  (1, 1, 1, 10)            40        \n",
      "                                                                 \n",
      " actv_5 (Activation)         (1, 1, 1, 10)             0         \n",
      "                                                                 \n",
      " flatten (Flatten)           (1, 10)                   0         \n",
      "                                                                 \n",
      "=================================================================\n",
      "Total params: 392,370\n",
      "Trainable params: 391,390\n",
      "Non-trainable params: 980\n",
      "_________________________________________________________________\n"
     ]
    }
   ],
   "source": [
    "# define layers configuration ((no_filters, kernel_size, pool_size))\n",
    "layers_config = ((32,3,2),(64,3,2),(128,3,2),(256,3,2),(10,1,0))\n",
    "\n",
    "# instantiate and build model\n",
    "cnn = model(layers_config)\n",
    "cnn.build(input_shape=(1,28,28,1))\n",
    "\n",
    "# check model architecture\n",
    "cnn.summary()"
   ]
  },
  {
   "cell_type": "markdown",
   "metadata": {
    "id": "Tmlr8cl80hX-"
   },
   "source": [
    "### Model Callbacks\n",
    "\n",
    "Almost there!\n",
    "\n",
    "Before we start training the model, we will define three TensorFlow Callbacks, they are used to control the learning process and to record information about the model.\n",
    "\n",
    "1. Reduce Learning Rate on Plateau: it reduces the learning rate to enhance the model parameters update. It will monitor the validation loss, when it does not improve at a minimum delta the factor will be applied to the learning rate.\n",
    "1. Model Checkpoint: it saves the model for future usage, like during predictions. It will save the best version of the model, also monitoring the validation loss.\n",
    "1. CSV Logger: creates the model log in a CSV file, it can be used to get knowledge about the learning dynamics allowing improvements.\n",
    "\n",
    "There are much more callback otions, for details about TensorFlow Callbacks please check https://www.tensorflow.org/api_docs/python/tf/keras/callbacks/Callback."
   ]
  },
  {
   "cell_type": "code",
   "execution_count": 9,
   "metadata": {
    "executionInfo": {
     "elapsed": 318,
     "status": "ok",
     "timestamp": 1655136514896,
     "user": {
      "displayName": "Sidclay da Silva",
      "userId": "08174217452753453351"
     },
     "user_tz": 180
    },
    "id": "sG8wbVFIVAGh"
   },
   "outputs": [],
   "source": [
    "# define folder and files to store model check point and log\n",
    "folder = '/content/drive/MyDrive/Colab Notebooks/Handwriting/'\n",
    "ckpfile = folder+'DigitClassification_ckp'\n",
    "logfile = folder+'DigitClassification_log.csv'\n",
    "\n",
    "# define reduce learning rate callback\n",
    "Reduce_LR = keras.callbacks.ReduceLROnPlateau(monitor='val_loss', factor=0.5,\n",
    "                                              patience=2, verbose=0,\n",
    "                                              mode='auto', min_delta=5e-4,\n",
    "                                              cooldown=0, min_lr=(1e-5))\n",
    "\n",
    "# define model checkpoint callback\n",
    "Checkpoint = keras.callbacks.ModelCheckpoint(filepath=ckpfile,\n",
    "                                             monitor='val_loss', verbose=0,\n",
    "                                             save_best_only=True,\n",
    "                                             save_weights_only=False,\n",
    "                                             mode='auto')\n",
    "\n",
    "# define model logger callback\n",
    "Logger = keras.callbacks.CSVLogger(filename=logfile, separator=',',\n",
    "                                   append=False)"
   ]
  },
  {
   "cell_type": "markdown",
   "metadata": {
    "id": "LO3yG8ybg-dU"
   },
   "source": [
    "### Training Model\n",
    "\n",
    "We will set the learning rate to 0.02 and the number of epochs to 20. For compiling we will use SGD optimizer, cross-entropy loss, since it is a classification problem, and sparse categorical accuracy as metric, it calculates how often predictions match integer labels.\n",
    "\n",
    "Actually it is normal to try several different setups during the training, I spent some time tuning it to achive the results below."
   ]
  },
  {
   "cell_type": "code",
   "execution_count": 10,
   "metadata": {
    "colab": {
     "base_uri": "https://localhost:8080/"
    },
    "executionInfo": {
     "elapsed": 173233,
     "status": "ok",
     "timestamp": 1655136850212,
     "user": {
      "displayName": "Sidclay da Silva",
      "userId": "08174217452753453351"
     },
     "user_tz": 180
    },
    "id": "31-3bDhCcZUK",
    "outputId": "578cdfac-7665-4722-de4d-aca64f89cfac"
   },
   "outputs": [
    {
     "name": "stdout",
     "output_type": "stream",
     "text": [
      "Epoch 1/20\n",
      "938/938 [==============================] - ETA: 0s - loss: 0.3073 - sparse_categorical_accuracy: 0.9704INFO:tensorflow:Assets written to: /content/drive/MyDrive/Colab Notebooks/Handwriting/DigitClassification_ckp/assets\n",
      "938/938 [==============================] - 12s 8ms/step - loss: 0.3073 - sparse_categorical_accuracy: 0.9704 - val_loss: 0.1229 - val_sparse_categorical_accuracy: 0.9864 - lr: 0.0200\n",
      "Epoch 2/20\n",
      "931/938 [============================>.] - ETA: 0s - loss: 0.1092 - sparse_categorical_accuracy: 0.9881INFO:tensorflow:Assets written to: /content/drive/MyDrive/Colab Notebooks/Handwriting/DigitClassification_ckp/assets\n",
      "938/938 [==============================] - 7s 8ms/step - loss: 0.1092 - sparse_categorical_accuracy: 0.9881 - val_loss: 0.0786 - val_sparse_categorical_accuracy: 0.9909 - lr: 0.0200\n",
      "Epoch 3/20\n",
      "932/938 [============================>.] - ETA: 0s - loss: 0.0720 - sparse_categorical_accuracy: 0.9910INFO:tensorflow:Assets written to: /content/drive/MyDrive/Colab Notebooks/Handwriting/DigitClassification_ckp/assets\n",
      "938/938 [==============================] - 7s 8ms/step - loss: 0.0719 - sparse_categorical_accuracy: 0.9911 - val_loss: 0.0515 - val_sparse_categorical_accuracy: 0.9924 - lr: 0.0200\n",
      "Epoch 4/20\n",
      "928/938 [============================>.] - ETA: 0s - loss: 0.0538 - sparse_categorical_accuracy: 0.9932INFO:tensorflow:Assets written to: /content/drive/MyDrive/Colab Notebooks/Handwriting/DigitClassification_ckp/assets\n",
      "938/938 [==============================] - 7s 7ms/step - loss: 0.0537 - sparse_categorical_accuracy: 0.9932 - val_loss: 0.0424 - val_sparse_categorical_accuracy: 0.9922 - lr: 0.0200\n",
      "Epoch 5/20\n",
      "933/938 [============================>.] - ETA: 0s - loss: 0.0427 - sparse_categorical_accuracy: 0.9949INFO:tensorflow:Assets written to: /content/drive/MyDrive/Colab Notebooks/Handwriting/DigitClassification_ckp/assets\n",
      "938/938 [==============================] - 7s 8ms/step - loss: 0.0426 - sparse_categorical_accuracy: 0.9949 - val_loss: 0.0396 - val_sparse_categorical_accuracy: 0.9914 - lr: 0.0200\n",
      "Epoch 6/20\n",
      "938/938 [==============================] - 6s 6ms/step - loss: 0.0355 - sparse_categorical_accuracy: 0.9955 - val_loss: 0.0412 - val_sparse_categorical_accuracy: 0.9910 - lr: 0.0200\n",
      "Epoch 7/20\n",
      "937/938 [============================>.] - ETA: 0s - loss: 0.0292 - sparse_categorical_accuracy: 0.9971INFO:tensorflow:Assets written to: /content/drive/MyDrive/Colab Notebooks/Handwriting/DigitClassification_ckp/assets\n",
      "938/938 [==============================] - 7s 7ms/step - loss: 0.0292 - sparse_categorical_accuracy: 0.9971 - val_loss: 0.0301 - val_sparse_categorical_accuracy: 0.9944 - lr: 0.0200\n",
      "Epoch 8/20\n",
      "934/938 [============================>.] - ETA: 0s - loss: 0.0261 - sparse_categorical_accuracy: 0.9971INFO:tensorflow:Assets written to: /content/drive/MyDrive/Colab Notebooks/Handwriting/DigitClassification_ckp/assets\n",
      "938/938 [==============================] - 7s 8ms/step - loss: 0.0261 - sparse_categorical_accuracy: 0.9971 - val_loss: 0.0260 - val_sparse_categorical_accuracy: 0.9939 - lr: 0.0200\n",
      "Epoch 9/20\n",
      "937/938 [============================>.] - ETA: 0s - loss: 0.0231 - sparse_categorical_accuracy: 0.9977INFO:tensorflow:Assets written to: /content/drive/MyDrive/Colab Notebooks/Handwriting/DigitClassification_ckp/assets\n",
      "938/938 [==============================] - 7s 8ms/step - loss: 0.0231 - sparse_categorical_accuracy: 0.9977 - val_loss: 0.0238 - val_sparse_categorical_accuracy: 0.9940 - lr: 0.0200\n",
      "Epoch 10/20\n",
      "938/938 [==============================] - 5s 6ms/step - loss: 0.0211 - sparse_categorical_accuracy: 0.9978 - val_loss: 0.0258 - val_sparse_categorical_accuracy: 0.9942 - lr: 0.0200\n",
      "Epoch 11/20\n",
      "938/938 [==============================] - 5s 6ms/step - loss: 0.0182 - sparse_categorical_accuracy: 0.9984 - val_loss: 0.0239 - val_sparse_categorical_accuracy: 0.9943 - lr: 0.0200\n",
      "Epoch 12/20\n",
      "933/938 [============================>.] - ETA: 0s - loss: 0.0153 - sparse_categorical_accuracy: 0.9989INFO:tensorflow:Assets written to: /content/drive/MyDrive/Colab Notebooks/Handwriting/DigitClassification_ckp/assets\n",
      "938/938 [==============================] - 7s 7ms/step - loss: 0.0153 - sparse_categorical_accuracy: 0.9989 - val_loss: 0.0206 - val_sparse_categorical_accuracy: 0.9948 - lr: 0.0100\n",
      "Epoch 13/20\n",
      "937/938 [============================>.] - ETA: 0s - loss: 0.0141 - sparse_categorical_accuracy: 0.9990INFO:tensorflow:Assets written to: /content/drive/MyDrive/Colab Notebooks/Handwriting/DigitClassification_ckp/assets\n",
      "938/938 [==============================] - 7s 8ms/step - loss: 0.0141 - sparse_categorical_accuracy: 0.9990 - val_loss: 0.0202 - val_sparse_categorical_accuracy: 0.9946 - lr: 0.0100\n",
      "Epoch 14/20\n",
      "938/938 [==============================] - 5s 6ms/step - loss: 0.0138 - sparse_categorical_accuracy: 0.9991 - val_loss: 0.0205 - val_sparse_categorical_accuracy: 0.9951 - lr: 0.0100\n",
      "Epoch 15/20\n",
      "938/938 [==============================] - 5s 6ms/step - loss: 0.0121 - sparse_categorical_accuracy: 0.9994 - val_loss: 0.0211 - val_sparse_categorical_accuracy: 0.9946 - lr: 0.0050\n",
      "Epoch 16/20\n",
      "931/938 [============================>.] - ETA: 0s - loss: 0.0122 - sparse_categorical_accuracy: 0.9993INFO:tensorflow:Assets written to: /content/drive/MyDrive/Colab Notebooks/Handwriting/DigitClassification_ckp/assets\n",
      "938/938 [==============================] - 7s 7ms/step - loss: 0.0122 - sparse_categorical_accuracy: 0.9993 - val_loss: 0.0196 - val_sparse_categorical_accuracy: 0.9944 - lr: 0.0050\n",
      "Epoch 17/20\n",
      "938/938 [==============================] - 5s 6ms/step - loss: 0.0120 - sparse_categorical_accuracy: 0.9992 - val_loss: 0.0198 - val_sparse_categorical_accuracy: 0.9945 - lr: 0.0050\n",
      "Epoch 18/20\n",
      "938/938 [==============================] - 5s 6ms/step - loss: 0.0108 - sparse_categorical_accuracy: 0.9996 - val_loss: 0.0196 - val_sparse_categorical_accuracy: 0.9947 - lr: 0.0050\n",
      "Epoch 19/20\n",
      "936/938 [============================>.] - ETA: 0s - loss: 0.0114 - sparse_categorical_accuracy: 0.9994INFO:tensorflow:Assets written to: /content/drive/MyDrive/Colab Notebooks/Handwriting/DigitClassification_ckp/assets\n",
      "938/938 [==============================] - 7s 8ms/step - loss: 0.0114 - sparse_categorical_accuracy: 0.9994 - val_loss: 0.0195 - val_sparse_categorical_accuracy: 0.9945 - lr: 0.0025\n",
      "Epoch 20/20\n",
      "936/938 [============================>.] - ETA: 0s - loss: 0.0107 - sparse_categorical_accuracy: 0.9995INFO:tensorflow:Assets written to: /content/drive/MyDrive/Colab Notebooks/Handwriting/DigitClassification_ckp/assets\n",
      "938/938 [==============================] - 7s 8ms/step - loss: 0.0107 - sparse_categorical_accuracy: 0.9995 - val_loss: 0.0192 - val_sparse_categorical_accuracy: 0.9943 - lr: 0.0025\n"
     ]
    },
    {
     "data": {
      "text/plain": [
       "<keras.callbacks.History at 0x7f2ca22f3810>"
      ]
     },
     "execution_count": 10,
     "metadata": {},
     "output_type": "execute_result"
    }
   ],
   "source": [
    "# define learning rate and number of epochs\n",
    "learn_rate = 0.02\n",
    "num_epochs = 20\n",
    "\n",
    "# compile model\n",
    "cnn.compile(optimizer = keras.optimizers.SGD(learn_rate),\n",
    "            loss = keras.losses.SparseCategoricalCrossentropy(from_logits=True),\n",
    "            metrics = [keras.metrics.SparseCategoricalAccuracy()])\n",
    "\n",
    "# train model\n",
    "cnn.fit(data_train, epochs=num_epochs, validation_data=data_test,\n",
    "        callbacks=[Reduce_LR, Checkpoint, Logger])"
   ]
  },
  {
   "cell_type": "markdown",
   "metadata": {
    "id": "5vaqynaFK3EZ"
   },
   "source": [
    "We can see from the console output the callbacks working, the learning rate reduction was triggered when no improvement was made in validation loss after two epochs, and that the model was saved only when there was validation loss improvement."
   ]
  },
  {
   "cell_type": "markdown",
   "metadata": {
    "id": "1x-_9zohB4Uo"
   },
   "source": [
    "### Analysing Log\n",
    "\n",
    "We will use the log file just recorded to have a better understanding of the training dynamics.\n",
    "\n",
    "First let's check what it contains, the columns are in the same position as the console output TensorFlow provided above.\n",
    "\n",
    "1. Epoch\n",
    "1. Training loss\n",
    "1. Training accuracy\n",
    "1. Validation loss\n",
    "1. Validation accuracy\n",
    "1. Learning rate"
   ]
  },
  {
   "cell_type": "code",
   "execution_count": 11,
   "metadata": {
    "colab": {
     "base_uri": "https://localhost:8080/"
    },
    "executionInfo": {
     "elapsed": 316,
     "status": "ok",
     "timestamp": 1655136892910,
     "user": {
      "displayName": "Sidclay da Silva",
      "userId": "08174217452753453351"
     },
     "user_tz": 180
    },
    "id": "oxKFn_aRVCCQ",
    "outputId": "c2f3f0e7-05cb-4508-ec03-c4cab888725c"
   },
   "outputs": [
    {
     "data": {
      "text/plain": [
       "array([[0.000e+00, 3.073e-01, 2.000e-02, 9.704e-01, 1.229e-01, 9.864e-01],\n",
       "       [1.000e+00, 1.092e-01, 2.000e-02, 9.881e-01, 7.860e-02, 9.909e-01],\n",
       "       [2.000e+00, 7.194e-02, 2.000e-02, 9.911e-01, 5.154e-02, 9.924e-01],\n",
       "       [3.000e+00, 5.372e-02, 2.000e-02, 9.932e-01, 4.236e-02, 9.922e-01],\n",
       "       [4.000e+00, 4.261e-02, 2.000e-02, 9.949e-01, 3.964e-02, 9.914e-01],\n",
       "       [5.000e+00, 3.549e-02, 2.000e-02, 9.955e-01, 4.117e-02, 9.910e-01],\n",
       "       [6.000e+00, 2.923e-02, 2.000e-02, 9.971e-01, 3.010e-02, 9.944e-01],\n",
       "       [7.000e+00, 2.606e-02, 2.000e-02, 9.971e-01, 2.597e-02, 9.939e-01],\n",
       "       [8.000e+00, 2.310e-02, 2.000e-02, 9.977e-01, 2.378e-02, 9.940e-01],\n",
       "       [9.000e+00, 2.110e-02, 2.000e-02, 9.978e-01, 2.578e-02, 9.942e-01],\n",
       "       [1.000e+01, 1.818e-02, 2.000e-02, 9.984e-01, 2.389e-02, 9.943e-01],\n",
       "       [1.100e+01, 1.535e-02, 1.000e-02, 9.989e-01, 2.062e-02, 9.948e-01],\n",
       "       [1.200e+01, 1.409e-02, 1.000e-02, 9.990e-01, 2.022e-02, 9.946e-01],\n",
       "       [1.300e+01, 1.384e-02, 1.000e-02, 9.991e-01, 2.047e-02, 9.951e-01],\n",
       "       [1.400e+01, 1.211e-02, 5.000e-03, 9.994e-01, 2.112e-02, 9.946e-01],\n",
       "       [1.500e+01, 1.224e-02, 5.000e-03, 9.993e-01, 1.955e-02, 9.944e-01],\n",
       "       [1.600e+01, 1.202e-02, 5.000e-03, 9.992e-01, 1.981e-02, 9.945e-01],\n",
       "       [1.700e+01, 1.078e-02, 5.000e-03, 9.996e-01, 1.961e-02, 9.947e-01],\n",
       "       [1.800e+01, 1.140e-02, 2.500e-03, 9.994e-01, 1.950e-02, 9.945e-01],\n",
       "       [1.900e+01, 1.070e-02, 2.500e-03, 9.995e-01, 1.916e-02, 9.943e-01]],\n",
       "      dtype=float32)"
      ]
     },
     "execution_count": 11,
     "metadata": {},
     "output_type": "execute_result"
    }
   ],
   "source": [
    "# load the model log\n",
    "model_log = np.loadtxt(logfile, dtype=np.float32, delimiter=',', skiprows=1)\n",
    "model_log"
   ]
  },
  {
   "cell_type": "markdown",
   "metadata": {
    "id": "tddoFiBbIgLe"
   },
   "source": [
    "Now we use the log data to plot the results, the first plot shows the improvement of accuracy, and the gap between training and validation. The second plot shows the improvements in validation loss, which was our target during monitoring."
   ]
  },
  {
   "cell_type": "code",
   "execution_count": 12,
   "metadata": {
    "colab": {
     "base_uri": "https://localhost:8080/",
     "height": 350
    },
    "executionInfo": {
     "elapsed": 712,
     "status": "ok",
     "timestamp": 1655136904068,
     "user": {
      "displayName": "Sidclay da Silva",
      "userId": "08174217452753453351"
     },
     "user_tz": 180
    },
    "id": "LuLZMgujinrt",
    "outputId": "0db74a5a-cc8c-4764-c101-439cd07f17c8"
   },
   "outputs": [
    {
     "data": {
      "image/png": "[encoded data removed]",
      "text/plain": [
       "<Figure size 864x360 with 2 Axes>"
      ]
     },
     "metadata": {
      "needs_background": "light"
     },
     "output_type": "display_data"
    }
   ],
   "source": [
    "# define figure\n",
    "fig = plt.figure(figsize=(12,5))\n",
    "\n",
    "# plot training and validation accuracy\n",
    "ax = fig.add_subplot(1,2,1)\n",
    "ax.plot(model_log[:,0]+1, model_log[:,3], color='b', label='training ')\n",
    "ax.plot(model_log[:,0]+1, model_log[:,5], color='g', label='validation')\n",
    "ax.set_title('Accuracy')\n",
    "ax.set_xlabel('epoch')\n",
    "ax.set_ylabel('accuracy')\n",
    "ax.set_ylim(bottom=None, top=1)\n",
    "ax.legend(loc='lower right')\n",
    "\n",
    "# plot validation loss\n",
    "ax = fig.add_subplot(1,2,2)\n",
    "plt.plot(model_log[:,0]+1, model_log[:,4], color='r', label='validation')\n",
    "ax.set_title('Validation Loss')\n",
    "ax.set_xlabel('epoch')\n",
    "ax.set_ylabel('loss')\n",
    "ax.set_ylim(bottom=None, top=None)\n",
    "\n",
    "# show figure\n",
    "plt.show();"
   ]
  },
  {
   "cell_type": "markdown",
   "metadata": {
    "id": "ws8LX56FJXji"
   },
   "source": [
    "Both plots show that huge improvement was make until epoch 12, then it was still improving, but at a slower pace, completely normal behaviour. The accuracy plot also shows the gap between training and validation, anyway validation achieved pretty high accuracy of 99.43%, what is probably higher than a human reading handwritten digits.\n",
    "\n",
    "It could still be improved if we had some more epochs, or even better a more robust model, but in this case the cost of processing could not worth it.\n",
    "\n",
    "To finish it, below we select the best epoch to check its details."
   ]
  },
  {
   "cell_type": "code",
   "execution_count": 13,
   "metadata": {
    "colab": {
     "base_uri": "https://localhost:8080/"
    },
    "executionInfo": {
     "elapsed": 386,
     "status": "ok",
     "timestamp": 1655136917611,
     "user": {
      "displayName": "Sidclay da Silva",
      "userId": "08174217452753453351"
     },
     "user_tz": 180
    },
    "id": "tVVt-j1Bmu57",
    "outputId": "1b93459e-e88d-427d-a459-3fdf37657189"
   },
   "outputs": [
    {
     "name": "stdout",
     "output_type": "stream",
     "text": [
      "Best Epoch\t 20 / 20 \n",
      "Train. Accuracy\t 0.9995 \n",
      "Valid. Accuracy\t 0.9943 \n",
      "Valid. Loss\t 0.0192\n"
     ]
    }
   ],
   "source": [
    "# select the epoch with minimum validation loss\n",
    "best_epoch = model_log[model_log[:,4]==model_log[:,4].min()].reshape(6,)\n",
    "\n",
    "# print best epoch details\n",
    "print('Best Epoch\\t', int(best_epoch[0]+1), '/', num_epochs,\n",
    "      '\\nTrain. Accuracy\\t',round(best_epoch[3],4),\n",
    "      '\\nValid. Accuracy\\t',round(best_epoch[5],4),\n",
    "      '\\nValid. Loss\\t',round(best_epoch[4],4),)"
   ]
  }
 ],
 "metadata": {
  "accelerator": "GPU",
  "colab": {
   "authorship_tag": "ABX9TyOs8goB102RWB59602T1vt+",
   "collapsed_sections": [],
   "mount_file_id": "11a-aM-9xszDIOJLow9kuCDtVKNHCBw5I",
   "name": "DigitClassification.ipynb",
   "provenance": []
  },
  "kernelspec": {
   "display_name": "Python 3",
   "language": "python",
   "name": "python3"
  },
  "language_info": {
   "codemirror_mode": {
    "name": "ipython",
    "version": 3
   },
   "file_extension": ".py",
   "mimetype": "text/x-python",
   "name": "python",
   "nbconvert_exporter": "python",
   "pygments_lexer": "ipython3",
   "version": "3.6.8"
  }
 },
 "nbformat": 4,
 "nbformat_minor": 4
}
